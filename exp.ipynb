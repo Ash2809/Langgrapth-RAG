{
 "cells": [
  {
   "cell_type": "code",
   "execution_count": 1,
   "metadata": {},
   "outputs": [],
   "source": [
    "from langchain.text_splitter import RecursiveCharacterTextSplitter\n",
    "from langchain.document_loaders import PyPDFLoader,DirectoryLoader\n",
    "from langchain_astradb import AstraDBVectorStore\n",
    "from langchain_google_genai import ChatGoogleGenerativeAI,GoogleGenerativeAIEmbeddings\n",
    "from langchain_core.prompts import ChatPromptTemplate\n",
    "from langchain_core.pydantic_v1 import BaseModel,Field\n",
    "from langchain_core.output_parsers import StrOutputParser\n",
    "from langchain_community.utilities import ArxivAPIWrapper,WikipediaAPIWrapper\n",
    "from langchain_community.tools import ArxivQueryRun,WikipediaQueryRun\n",
    "from langgraph.graph import END, StateGraph, START\n",
    "from langchain import hub\n",
    "from langchain.schema import Document\n",
    "from typing import List,Literal\n",
    "from typing_extensions import TypedDict\n",
    "from langchain.schema import Document\n",
    "from pprint import pprint\n",
    "from dotenv import load_dotenv\n",
    "import os"
   ]
  },
  {
   "cell_type": "code",
   "execution_count": 2,
   "metadata": {},
   "outputs": [],
   "source": [
    "load_dotenv()\n",
    "\n",
    "GOOGLE_API_KEY = os.getenv(\"GOOGLE_API_KEY\")\n",
    "load_dotenv()\n",
    "gemini_embeddings = GoogleGenerativeAIEmbeddings(model = \"models/embedding-001\")\n",
    "ASTRA_DB_API = os.getenv(\"ASTRA_API_KEY\")\n",
    "ASTRA_ENDPOINT = os.getenv(\"DB_ENDPOINT\")"
   ]
  },
  {
   "cell_type": "code",
   "execution_count": 3,
   "metadata": {},
   "outputs": [
    {
     "name": "stdout",
     "output_type": "stream",
     "text": [
      "I am a large language model, trained by Google. \n",
      "\n",
      "Here's what that means:\n",
      "\n",
      "* **I am a computer program:** I don't have feelings, thoughts, or experiences like humans do.\n",
      "* **I am trained on a massive amount of text data:** This allows me to communicate and generate human-like text in response to a wide range of prompts and questions. \n",
      "* **I am still under development:** I am constantly learning and improving my abilities.\n",
      "\n",
      "How can I help you today? \n",
      "\n"
     ]
    }
   ],
   "source": [
    "llm = ChatGoogleGenerativeAI(model = \"gemini-1.5-pro\",api_key = GOOGLE_API_KEY,temperature = 0.2)\n",
    "print(llm.invoke(\"Who are you?\").content)"
   ]
  },
  {
   "cell_type": "code",
   "execution_count": 4,
   "metadata": {},
   "outputs": [
    {
     "data": {
      "text/plain": [
       "[Document(metadata={'source': 'data\\\\budget_speech (1).pdf', 'page': 2}, page_content='CONTENTS  \\n \\nPART – A \\n Page No.  \\nIntroduction 1 \\nGlobal Context  1 \\nInterim Budget  2 \\nBudget Theme  2 \\nBudget Priorities  2 \\n(i) Productivity and resilience in Agriculture   \\n(ii) Employment & Skilling  \\n(iii) Inclusive Human Resource Development and Social Justice   \\n(iv) Manufacturing & Services  \\n(v) Urban Development   \\n(vi) Energy Security  \\n(vii) Infrastructure  \\n(viii) Innovation, Research & Development  \\n(ix) Next Generation Reforms  \\nBudget Estimates 2024- 25 20 \\n \\n \\nPART – B'),\n",
       " Document(metadata={'source': 'data\\\\budget_speech (1).pdf', 'page': 5}, page_content='pursuit of ‘ Viksit Bharat’. In line with the strategy set out in the interim \\nbudget, this budget envisages sustained efforts on the following 9 priorities \\nfor generating ample opportunities for all.   \\n1) Productivity and resilience in Agriculture  \\n2) Employment & Skilling  \\n3) Inclusive Human Resource Development and Social Justice  \\n4) Manufacturing & Services  \\n5) Urban Development    \\n6) Energy Security  \\n7) Infrastructure'),\n",
       " Document(metadata={'source': 'data\\\\budget_speech (1).pdf', 'page': 6}, page_content='3  \\n \\n8) Innovation, Research & Development and  \\n9) Next Generation Reforms  \\n8. Subsequent budgets will build on these, and add more priorities and \\nactions. A more detailed formulation will be carried out as part  of the \\n‘economic policy framework’ about which I will speak later in this speech.   \\n9. This budget details some of the specific actions to be initiated in the \\ncurrent year towards fulfilment of these priorities with potential for'),\n",
       " Document(metadata={'source': 'data\\\\budget_speech (1).pdf', 'page': 52}, page_content='F. OTHERS \\nThere are few other changes of minor nature. For details of the budget \\nproposals, the Explanatory Memorandum and other relevant budget documents may be referred to.')]"
      ]
     },
     "execution_count": 4,
     "metadata": {},
     "output_type": "execute_result"
    }
   ],
   "source": [
    "vector_store = AstraDBVectorStore(token = ASTRA_DB_API,\n",
    "                                      api_endpoint = ASTRA_ENDPOINT,\n",
    "                                      embedding = gemini_embeddings,\n",
    "                                      namespace = \"law\",\n",
    "                                      collection_name = \"langgraph_RAG\")\n",
    "\n",
    "vector_store.similarity_search(\"Budget\")"
   ]
  },
  {
   "cell_type": "code",
   "execution_count": 5,
   "metadata": {},
   "outputs": [],
   "source": [
    "retriever = vector_store.as_retriever()"
   ]
  },
  {
   "cell_type": "code",
   "execution_count": 6,
   "metadata": {},
   "outputs": [],
   "source": [
    "class GraphState(TypedDict):\n",
    "    question : str\n",
    "    generation : str\n",
    "    documents : List[str]\n",
    "    route: str"
   ]
  },
  {
   "cell_type": "code",
   "execution_count": 33,
   "metadata": {},
   "outputs": [],
   "source": [
    "def router(state: GraphState) -> str:\n",
    "    question = state[\"question\"]\n",
    "\n",
    "    class RouteQuery(BaseModel):\n",
    "        datasource: Literal[\"vectorstore\", \"wiki_search\"] = Field(..., description=\"For a given user question decide whether to route it to vectorstore or wiki_search\")\n",
    "\n",
    "    llm_router = llm.with_structured_output(RouteQuery)\n",
    "\n",
    "    system = \"\"\"You are an expert at routing a user question to a vectorstore or wiki_search.\n",
    "    The vectorstore contains documents related to Indian law and budget 2024.\n",
    "    Use the vectorstore for questions on these topics. Otherwise, use wiki_search.\"\"\"\n",
    "\n",
    "    route_prompt = ChatPromptTemplate.from_messages([(\"system\", system), (\"human\", \"{question}\")])\n",
    "\n",
    "    question_router = route_prompt | llm_router\n",
    "\n",
    "    response = question_router.invoke({\"question\": question})\n",
    "    return response.datasource"
   ]
  },
  {
   "cell_type": "code",
   "execution_count": 34,
   "metadata": {},
   "outputs": [],
   "source": [
    "def retrieve(state: GraphState):\n",
    "    question = state[\"question\"]\n",
    "    print(question)\n",
    "    prompt = hub.pull(\"rlm/rag-prompt\")\n",
    "    rag_chain = prompt | llm | StrOutputParser()\n",
    "    docs = retriever.get_relevant_documents(question)\n",
    "\n",
    "    generation = rag_chain.invoke({\"context\": docs, \"question\": question})\n",
    "    print(generation)\n",
    "    state[\"generation\"] = generation\n",
    "    state[\"documents\"] = docs"
   ]
  },
  {
   "cell_type": "code",
   "execution_count": 35,
   "metadata": {},
   "outputs": [],
   "source": [
    "def wiki_search(state: GraphState):\n",
    "    question = state[\"question\"]\n",
    "    arxiv_wrapper = ArxivAPIWrapper(top_k_results=1, doc_content_chars_max=200)\n",
    "    arxiv = ArxivQueryRun(api_wrapper=arxiv_wrapper)\n",
    "    print(question)\n",
    "    api_wrapper = WikipediaAPIWrapper(top_k_results=1, doc_content_chars_max=200)  \n",
    "    wiki = WikipediaQueryRun(api_wrapper=api_wrapper)\n",
    "\n",
    "    docs = wiki.invoke(question)\n",
    "    print(docs)\n",
    "    wiki_result = Document(page_content=docs)\n",
    "    state[\"documents\"] = [wiki_result]\n",
    "    state[\"generation\"] = \"Wiki search completed\""
   ]
  },
  {
   "cell_type": "code",
   "execution_count": 37,
   "metadata": {},
   "outputs": [],
   "source": [
    "workflow = StateGraph(GraphState)\n",
    "workflow.add_node(\"retrieve\", retrieve)\n",
    "workflow.add_node(\"wiki_search\", wiki_search)\n",
    "\n",
    "workflow.add_conditional_edges(START, router, {\n",
    "    \"wiki_search\": \"wiki_search\",\n",
    "    \"vectorstore\": \"retrieve\",\n",
    "})\n",
    "\n",
    "workflow.add_edge(\"wiki_search\", END)\n",
    "workflow.add_edge(\"retrieve\", END)\n",
    "\n",
    "app = workflow.compile()"
   ]
  },
  {
   "cell_type": "code",
   "execution_count": 31,
   "metadata": {},
   "outputs": [
    {
     "data": {
      "image/jpeg": "[encoded data removed]",
      "text/plain": [
       "<IPython.core.display.Image object>"
      ]
     },
     "metadata": {},
     "output_type": "display_data"
    }
   ],
   "source": [
    "from IPython.display import Image, display\n",
    "\n",
    "try:\n",
    "    display(Image(app.get_graph().draw_mermaid_png()))\n",
    "except Exception:\n",
    "    pass"
   ]
  },
  {
   "cell_type": "code",
   "execution_count": 40,
   "metadata": {},
   "outputs": [
    {
     "name": "stdout",
     "output_type": "stream",
     "text": [
      "What are some key points about Indian Budget 2024\n",
      "The Indian Budget 2024, presented by Finance Minister Nirmala Sitharaman on July 23, 2024, focuses on nine key priorities for growth. These priorities include agriculture, employment and skilling, human resource development, manufacturing, urban development, energy security, infrastructure, innovation, and next-generation reforms. The budget aims to create opportunities for all citizens and contribute to India's development. \n",
      "\n"
     ]
    }
   ],
   "source": [
    "inputs = {\"question\": \"What are some key points about Indian Budget 2024\"}\n",
    "for output in app.stream(inputs):\n",
    "    for node_output in output:\n",
    "        print(f\"Node '{node_output['node']}':\")\n",
    "        for key, value in node_output['data'].items():\n",
    "            pprint(f\"  {key}: {value}\")"
   ]
  },
  {
   "cell_type": "code",
   "execution_count": null,
   "metadata": {},
   "outputs": [],
   "source": []
  }
 ],
 "metadata": {
  "kernelspec": {
   "display_name": "main",
   "language": "python",
   "name": "python3"
  },
  "language_info": {
   "codemirror_mode": {
    "name": "ipython",
    "version": 3
   },
   "file_extension": ".py",
   "mimetype": "text/x-python",
   "name": "python",
   "nbconvert_exporter": "python",
   "pygments_lexer": "ipython3",
   "version": "3.9.19"
  }
 },
 "nbformat": 4,
 "nbformat_minor": 2
}
